{
 "cells": [
  {
   "cell_type": "markdown",
   "metadata": {
    "Collapsed": "false"
   },
   "source": [
    "# Figure 3. Illustration of contour normalization"
   ]
  },
  {
   "cell_type": "code",
   "execution_count": 1,
   "metadata": {
    "Collapsed": "false",
    "jupyter": {
     "source_hidden": true
    }
   },
   "outputs": [],
   "source": [
    "# Import \n",
    "import numpy as np\n",
    "import matplotlib\n",
    "import matplotlib.pyplot as plt\n",
    "import matplotlib.patches as patches\n",
    "import pandas as pd\n",
    "import music21\n",
    "\n",
    "import sys\n",
    "sys.path.append('../')\n",
    "from src.contours import extract_phrases_from_file\n",
    "from src.contours import interpolate_stream\n",
    "from helpers import cm2inch\n",
    "\n",
    "matplotlib.style.use('styles.mplstyle')\n",
    "copyright = '(c) Bas Cornelissen (CC BY 4.0 licence)'"
   ]
  },
  {
   "cell_type": "code",
   "execution_count": 2,
   "metadata": {
    "Collapsed": "false",
    "jupyter": {
     "source_hidden": true
    }
   },
   "outputs": [],
   "source": [
    "def show_phrase(phrase, ys, show_legend=True, height=1):\n",
    "    # Extract note durations etc\n",
    "    notes = phrase.recurse().notes\n",
    "    offsets = [float(n.offset) for n in notes]\n",
    "    pitches = [n.pitch.ps for n in notes]\n",
    "    durations = [n.quarterLength for n in notes]\n",
    "\n",
    "    # Get normalized contour\n",
    "    xs = np.linspace(0, 1, 50)\n",
    "    norm_ys = ys - np.mean(ys)\n",
    "\n",
    "    # Plot Piano roll\n",
    "    total_duration = phrase.quarterLength\n",
    "    for offset, duration, pitch in zip(offsets, durations, pitches):\n",
    "        bottom_left = (offset/total_duration, pitch - np.mean(ys) - height/2)\n",
    "        rect = patches.Rectangle(bottom_left, duration/total_duration - 0.01, height,\n",
    "                                 facecolor='r', alpha=.4, label='note')\n",
    "        plt.gca().add_patch(rect)\n",
    "\n",
    "    plt.plot(xs, norm_ys, 'k.--', lw=.3, ms=1, label='normalized contour')\n",
    "    plt.xlim(-.05, 1.05)\n",
    "    plt.plot([-.05,1.05], [0,0], 'k:', lw=.5)\n",
    "    \n",
    "    plt.ylabel('normalized pitch')\n",
    "    plt.xlabel('position in phrase')\n",
    "\n",
    "    if show_legend:\n",
    "        # Legend: don't repeat labels\n",
    "        handles, labels = plt.gca().get_legend_handles_labels()\n",
    "        by_label = dict(zip(labels, handles))\n",
    "        plt.legend(by_label.values(), by_label.keys())\n",
    "        \n",
    "# fig = plt.figure(figsize=cm2inch(6, 3), constrained_layout=True)\n",
    "# matplotlib.style.use('styles.mplstyle')\n",
    "# show_phrase(phrase, ys, show_legend=True)\n",
    "# plt.savefig('test3.pdf', pad_inches=0)"
   ]
  },
  {
   "cell_type": "code",
   "execution_count": 3,
   "metadata": {
    "jupyter": {
     "source_hidden": true
    }
   },
   "outputs": [
    {
     "data": {
      "image/png": "[encoded data removed]",
      "text/plain": [
       "<Figure size 531.496x147.638 with 2 Axes>"
      ]
     },
     "metadata": {
      "needs_background": "light"
     },
     "output_type": "display_data"
    }
   ],
   "source": [
    "# Show a phrase from an antiphon\n",
    "filepath = '../datasets/gregobasecorpus/gabc/02238.gabc'\n",
    "phrases = extract_phrases_from_file(filepath)\n",
    "\n",
    "fig = plt.figure(figsize=cm2inch(9, 2.5))\n",
    "ax1 = plt.subplot(121)\n",
    "phrase1 = phrases[0]\n",
    "pitches1 = interpolate_stream(phrase1)\n",
    "show_phrase(phrase1, pitches1, show_legend=False, height=1.2)\n",
    "plt.title(None)\n",
    "plt.ylim(-8,6.5)\n",
    "\n",
    "ax2 = plt.subplot(122, sharey=ax1)\n",
    "phrase2 = phrases[1]\n",
    "pitches2 = interpolate_stream(phrase2)\n",
    "show_phrase(phrase2, pitches2, show_legend=False, height=1.2)\n",
    "# ax2.set_yticklabels([])\n",
    "plt.ylabel('')\n",
    "\n",
    "plt.tight_layout()\n",
    "plt.savefig('../figures/fig03/fig03-normalized-contour-alma-2-phrases.pdf')"
   ]
  },
  {
   "cell_type": "code",
   "execution_count": null,
   "metadata": {},
   "outputs": [],
   "source": []
  }
 ],
 "metadata": {
  "kernelspec": {
   "display_name": "Python 3",
   "language": "python",
   "name": "python3"
  },
  "language_info": {
   "codemirror_mode": {
    "name": "ipython",
    "version": 3
   },
   "file_extension": ".py",
   "mimetype": "text/x-python",
   "name": "python",
   "nbconvert_exporter": "python",
   "pygments_lexer": "ipython3",
   "version": "3.7.6"
  }
 },
 "nbformat": 4,
 "nbformat_minor": 4
}
