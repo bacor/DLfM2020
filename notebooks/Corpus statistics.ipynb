{
 "cells": [
  {
   "cell_type": "code",
   "execution_count": 1,
   "metadata": {},
   "outputs": [],
   "source": [
    "import pandas as pd"
   ]
  },
  {
   "cell_type": "markdown",
   "metadata": {},
   "source": [
    "# Cantus statistics"
   ]
  },
  {
   "cell_type": "code",
   "execution_count": 2,
   "metadata": {},
   "outputs": [
    {
     "name": "stderr",
     "output_type": "stream",
     "text": [
      "/Users/Bas/repos/papers/DLfM2020-chant-contours/env/lib/python3.7/site-packages/IPython/core/interactiveshell.py:3072: DtypeWarning: Columns (16) have mixed types.Specify dtype option on import or set low_memory=False.\n",
      "  interactivity=interactivity, compiler=compiler, result=result)\n"
     ]
    }
   ],
   "source": [
    "chants = pd.read_csv('../datasets/cantuscorpus/csv/chant.csv', index_col=0)\n",
    "# sources = pd.read_csv('../datasets/cantuscorpus/csv/source.csv', index_col=0)"
   ]
  },
  {
   "cell_type": "code",
   "execution_count": 3,
   "metadata": {},
   "outputs": [
    {
     "name": "stdout",
     "output_type": "stream",
     "text": [
      "incipit                nonempty for 497055 chants (100.00%)\n",
      "cantus_id              nonempty for 486827 chants (97.94%)\n",
      "mode                   nonempty for 458227 chants (92.19%)\n",
      "finalis                nonempty for 8919   chants (1.79%)\n",
      "differentia            nonempty for 177299 chants (35.67%)\n",
      "siglum                 nonempty for 497071 chants (100.00%)\n",
      "position               nonempty for 392612 chants (78.99%)\n",
      "folio                  nonempty for 497036 chants (99.99%)\n",
      "sequence               nonempty for 497034 chants (99.99%)\n",
      "marginalia             nonempty for 14031  chants (2.82%)\n",
      "cao_concordances       nonempty for 264788 chants (53.27%)\n",
      "feast_id               nonempty for 488697 chants (98.32%)\n",
      "genre_id               nonempty for 493102 chants (99.20%)\n",
      "office_id              nonempty for 494954 chants (99.57%)\n",
      "source_id              nonempty for 456248 chants (91.79%)\n",
      "melody_id              nonempty for 91     chants (0.02%)\n",
      "drupal_path            nonempty for 497071 chants (100.00%)\n",
      "full_text              nonempty for 218122 chants (43.88%)\n",
      "full_text_manuscript   nonempty for 151627 chants (30.50%)\n",
      "volpiano               nonempty for 63628  chants (12.80%)\n",
      "notes                  nonempty for 97     chants (0.02%)\n"
     ]
    }
   ],
   "source": [
    "for column in chants.columns:\n",
    "    has_value = (chants[column].isnull() == False).sum()\n",
    "    print(f'{column: <22} nonempty for {has_value: <6} chants ({has_value/len(chants):.2%})')"
   ]
  },
  {
   "cell_type": "markdown",
   "metadata": {},
   "source": [
    "# Gregobase"
   ]
  },
  {
   "cell_type": "code",
   "execution_count": 4,
   "metadata": {},
   "outputs": [],
   "source": [
    "gb_chants = pd.read_csv('../datasets/gregobasecorpus/csv/chants.csv', index_col=0)"
   ]
  },
  {
   "cell_type": "code",
   "execution_count": 5,
   "metadata": {},
   "outputs": [
    {
     "name": "stdout",
     "output_type": "stream",
     "text": [
      "cantus_id              nonempty for 585    chants (6.40%)\n",
      "version                nonempty for 8709   chants (95.29%)\n",
      "incipit                nonempty for 9101   chants (99.58%)\n",
      "initial                nonempty for 9139   chants (100.00%)\n",
      "office_part            nonempty for 9020   chants (98.70%)\n",
      "mode                   nonempty for 8441   chants (92.36%)\n",
      "mode_var               nonempty for 1433   chants (15.68%)\n",
      "transcriber            nonempty for 8525   chants (93.28%)\n",
      "commentary             nonempty for 550    chants (6.02%)\n",
      "gabc                   nonempty for 9135   chants (99.96%)\n",
      "gabc_verses            nonempty for 147    chants (1.61%)\n",
      "tex_verses             nonempty for 108    chants (1.18%)\n",
      "remarks                nonempty for 507    chants (5.55%)\n"
     ]
    }
   ],
   "source": [
    "for column in gb_chants.columns:\n",
    "    has_value = (gb_chants[column].isnull() == False).sum()\n",
    "    print(f'{column: <22} nonempty for {has_value: <6} chants ({has_value/len(gb_chants):.2%})')"
   ]
  },
  {
   "cell_type": "code",
   "execution_count": null,
   "metadata": {},
   "outputs": [],
   "source": []
  }
 ],
 "metadata": {
  "kernelspec": {
   "display_name": "Python 3",
   "language": "python",
   "name": "python3"
  },
  "language_info": {
   "codemirror_mode": {
    "name": "ipython",
    "version": 3
   },
   "file_extension": ".py",
   "mimetype": "text/x-python",
   "name": "python",
   "nbconvert_exporter": "python",
   "pygments_lexer": "ipython3",
   "version": "3.7.6"
  }
 },
 "nbformat": 4,
 "nbformat_minor": 4
}
