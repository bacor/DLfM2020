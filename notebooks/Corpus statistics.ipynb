{
 "cells": [
  {
   "cell_type": "code",
   "execution_count": 1,
   "metadata": {},
   "outputs": [],
   "source": [
    "import pandas as pd\n",
    "import sys\n",
    "sys.path.append('../src')\n",
    "from volpiano import clean_volpiano\n",
    "import seaborn as sns\n",
    "import matplotlib.pyplot as plt"
   ]
  },
  {
   "cell_type": "markdown",
   "metadata": {},
   "source": [
    "# Cantus statistics"
   ]
  },
  {
   "cell_type": "code",
   "execution_count": 2,
   "metadata": {},
   "outputs": [
    {
     "name": "stderr",
     "output_type": "stream",
     "text": [
      "/Users/Bas/repos/papers/DLfM2020/env/lib/python3.7/site-packages/IPython/core/interactiveshell.py:3072: DtypeWarning: Columns (16) have mixed types.Specify dtype option on import or set low_memory=False.\n",
      "  interactivity=interactivity, compiler=compiler, result=result)\n"
     ]
    }
   ],
   "source": [
    "chants = pd.read_csv('../datasets/cantuscorpus/csv/chant.csv', index_col=0)\n",
    "# sources = pd.read_csv('../datasets/cantuscorpus/csv/source.csv', index_col=0)"
   ]
  },
  {
   "cell_type": "code",
   "execution_count": 3,
   "metadata": {},
   "outputs": [
    {
     "name": "stdout",
     "output_type": "stream",
     "text": [
      "incipit                nonempty for 497055 chants (100.00%)\n",
      "cantus_id              nonempty for 486827 chants (97.94%)\n",
      "mode                   nonempty for 458227 chants (92.19%)\n",
      "finalis                nonempty for 8919   chants (1.79%)\n",
      "differentia            nonempty for 177299 chants (35.67%)\n",
      "siglum                 nonempty for 497071 chants (100.00%)\n",
      "position               nonempty for 392612 chants (78.99%)\n",
      "folio                  nonempty for 497036 chants (99.99%)\n",
      "sequence               nonempty for 497034 chants (99.99%)\n",
      "marginalia             nonempty for 14031  chants (2.82%)\n",
      "cao_concordances       nonempty for 264788 chants (53.27%)\n",
      "feast_id               nonempty for 488697 chants (98.32%)\n",
      "genre_id               nonempty for 493102 chants (99.20%)\n",
      "office_id              nonempty for 494954 chants (99.57%)\n",
      "source_id              nonempty for 456248 chants (91.79%)\n",
      "melody_id              nonempty for 91     chants (0.02%)\n",
      "drupal_path            nonempty for 497071 chants (100.00%)\n",
      "full_text              nonempty for 218122 chants (43.88%)\n",
      "full_text_manuscript   nonempty for 151627 chants (30.50%)\n",
      "volpiano               nonempty for 63628  chants (12.80%)\n",
      "notes                  nonempty for 97     chants (0.02%)\n"
     ]
    }
   ],
   "source": [
    "for column in chants.columns:\n",
    "    has_value = (chants[column].isnull() == False).sum()\n",
    "    print(f'{column: <22} nonempty for {has_value: <6} chants ({has_value/len(chants):.2%})')"
   ]
  },
  {
   "cell_type": "markdown",
   "metadata": {},
   "source": [
    "# Gregobase"
   ]
  },
  {
   "cell_type": "code",
   "execution_count": 4,
   "metadata": {},
   "outputs": [],
   "source": [
    "gb_chants = pd.read_csv('../datasets/gregobasecorpus/csv/chants.csv', index_col=0)"
   ]
  },
  {
   "cell_type": "code",
   "execution_count": 5,
   "metadata": {},
   "outputs": [
    {
     "name": "stdout",
     "output_type": "stream",
     "text": [
      "cantus_id              nonempty for 585    chants (6.40%)\n",
      "version                nonempty for 8709   chants (95.29%)\n",
      "incipit                nonempty for 9101   chants (99.58%)\n",
      "initial                nonempty for 9139   chants (100.00%)\n",
      "office_part            nonempty for 9020   chants (98.70%)\n",
      "mode                   nonempty for 8441   chants (92.36%)\n",
      "mode_var               nonempty for 1433   chants (15.68%)\n",
      "transcriber            nonempty for 8525   chants (93.28%)\n",
      "commentary             nonempty for 550    chants (6.02%)\n",
      "gabc                   nonempty for 9135   chants (99.96%)\n",
      "gabc_verses            nonempty for 147    chants (1.61%)\n",
      "tex_verses             nonempty for 108    chants (1.18%)\n",
      "remarks                nonempty for 507    chants (5.55%)\n"
     ]
    }
   ],
   "source": [
    "for column in gb_chants.columns:\n",
    "    has_value = (gb_chants[column].isnull() == False).sum()\n",
    "    print(f'{column: <22} nonempty for {has_value: <6} chants ({has_value/len(gb_chants):.2%})')"
   ]
  },
  {
   "cell_type": "markdown",
   "metadata": {},
   "source": [
    "# How many chants are incipits?"
   ]
  },
  {
   "cell_type": "markdown",
   "metadata": {},
   "source": [
    "What portion of the chants is complete, and what portion consists of only incipits? Working this out is not entirely straightforward, so we take the following approach. First, we check whether `incipit` is equal to `full_text`. If this is the case, then we certainly have an incipit. We can use this to estimate the length distribution of incipits, which we use to heuristically estimate the number of complete chants by checking whether they have at least a certain number of notes. This is indeed very naive."
   ]
  },
  {
   "cell_type": "code",
   "execution_count": 6,
   "metadata": {},
   "outputs": [
    {
     "name": "stdout",
     "output_type": "stream",
     "text": [
      "Ignored chants witout notes: 1825\n",
      "Ignored outliers: 184\n",
      "Remaining: 61619\n"
     ]
    }
   ],
   "source": [
    "subset = chants[chants.volpiano.isnull() == False]\n",
    "lengths = subset.volpiano.map(clean_volpiano).map(len)\n",
    "\n",
    "# Ignore outliers with more than 350 notes\n",
    "subset = subset[(0 < lengths) & (lengths < 350)]\n",
    "print('Ignored chants witout notes:', sum(lengths == 0))\n",
    "print('Ignored outliers:', sum(lengths >= 350))\n",
    "print('Remaining:', len(subset))"
   ]
  },
  {
   "cell_type": "code",
   "execution_count": 7,
   "metadata": {},
   "outputs": [
    {
     "name": "stdout",
     "output_type": "stream",
     "text": [
      "Num certain incipits 8075\n"
     ]
    }
   ],
   "source": [
    "lengths = subset.volpiano.map(clean_volpiano).map(len)\n",
    "subset.loc[:, 'length'] = lengths\n",
    "\n",
    "has_full_text = subset.full_text.isnull() == False\n",
    "has_full_text_manuscript = subset.full_text_manuscript.isnull() == False\n",
    "has_both = has_full_text & has_full_text_manuscript\n",
    "is_incipit = has_both & (subset.full_text == subset.incipit)\n",
    "subset.loc[:, 'is_incipit'] = is_incipit\n",
    "print('Num certain incipits', is_incipit.sum())"
   ]
  },
  {
   "cell_type": "code",
   "execution_count": 8,
   "metadata": {},
   "outputs": [
    {
     "data": {
      "image/png": "[encoded data removed]",
      "text/plain": [
       "<Figure size 360x432 with 3 Axes>"
      ]
     },
     "metadata": {
      "needs_background": "light"
     },
     "output_type": "display_data"
    }
   ],
   "source": [
    "plt.figure(figsize=(5, 6))\n",
    "bound = 30\n",
    "median = lengths.median()\n",
    "\n",
    "props = dict(ha='left', x=0)\n",
    "plt.suptitle('Length distributions', fontweight='bold')\n",
    "\n",
    "ax1 = plt.subplot(311)\n",
    "plt.title('A. All chants', **props)\n",
    "sns.distplot(lengths)\n",
    "plt.xlim(0, 350)\n",
    "plt.xlabel('')\n",
    "plt.ylabel('Density')\n",
    "plt.plot([bound, bound], plt.ylim(), 'r--')\n",
    "plt.plot([median, median], plt.ylim(), 'k:', lw=.5)\n",
    "\n",
    "plt.subplot(312, sharex=ax1)\n",
    "plt.title('B. Incipits (incipit = full_text)', **props)\n",
    "sns.distplot(lengths[is_incipit == True], color='C1')\n",
    "plt.ylabel('Density')\n",
    "plt.xlabel('')\n",
    "plt.plot([bound, bound], plt.ylim(), 'r--')\n",
    "plt.plot([median, median], plt.ylim(), 'k:', lw=.5)\n",
    "\n",
    "plt.subplot(313, sharex=ax1)\n",
    "plt.title('C. The rest, including complete melodies', **props)\n",
    "sns.distplot(lengths[is_incipit == False], color='C2')\n",
    "plt.xlabel('Length (num notes)')\n",
    "plt.ylabel('Density')\n",
    "plt.plot([bound, bound], plt.ylim(), 'r--', label=f'Boundary of {bound} notes')\n",
    "plt.plot([median, median], plt.ylim(), 'k:', lw=.5, \n",
    "         label=f'Median length of all chants: {median}')\n",
    "\n",
    "plt.legend() \n",
    "sns.despine()\n",
    "plt.tight_layout()"
   ]
  },
  {
   "cell_type": "code",
   "execution_count": 9,
   "metadata": {},
   "outputs": [
    {
     "name": "stdout",
     "output_type": "stream",
     "text": [
      "Estimated percentage of incipits: 37%\n",
      "Estimated percentage of complete melodies: 63%\n"
     ]
    }
   ],
   "source": [
    "perc_est_incipit = sum(lengths < bound) / len(subset)\n",
    "print(f'Estimated percentage of incipits: {perc_est_incipit:.0%}')\n",
    "print(f'Estimated percentage of complete melodies: {1-perc_est_incipit:.0%}')"
   ]
  },
  {
   "cell_type": "code",
   "execution_count": null,
   "metadata": {},
   "outputs": [],
   "source": []
  }
 ],
 "metadata": {
  "kernelspec": {
   "display_name": "Python 3",
   "language": "python",
   "name": "python3"
  },
  "language_info": {
   "codemirror_mode": {
    "name": "ipython",
    "version": 3
   },
   "file_extension": ".py",
   "mimetype": "text/x-python",
   "name": "python",
   "nbconvert_exporter": "python",
   "pygments_lexer": "ipython3",
   "version": "3.7.6"
  }
 },
 "nbformat": 4,
 "nbformat_minor": 4
}
